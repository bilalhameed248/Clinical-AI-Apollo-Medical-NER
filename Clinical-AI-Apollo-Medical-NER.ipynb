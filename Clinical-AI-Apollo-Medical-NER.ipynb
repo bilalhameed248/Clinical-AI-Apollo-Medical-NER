{
 "cells": [
  {
   "cell_type": "markdown",
   "id": "085eec06",
   "metadata": {},
   "source": [
    "## Importing Necessary Libraries"
   ]
  },
  {
   "cell_type": "code",
   "execution_count": 11,
   "id": "0b3d63a8",
   "metadata": {},
   "outputs": [],
   "source": [
    "import warnings\n",
    "warnings.filterwarnings('ignore')\n",
    "import os, evaluate, torch, accelerate, nltk, re, datetime \n",
    "import pandas as pd\n",
    "from collections import Counter\n",
    "import numpy as np\n",
    "from datasets import load_dataset, Dataset, DatasetDict\n",
    "from transformers import BertTokenizer\n",
    "from transformers import AutoTokenizer, AutoModel\n",
    "from transformers import AutoModelForTokenClassification\n",
    "from datasets import load_metric\n",
    "from transformers import TrainingArguments, Trainer\n",
    "from transformers import pipeline\n",
    "from nltk.corpus import stopwords\n",
    "from nltk.stem.porter import PorterStemmer\n",
    "from nltk.stem import WordNetLemmatizer\n",
    "from nltk.tokenize import word_tokenize\n",
    "from sklearn.metrics import confusion_matrix, accuracy_score\n",
    "from sklearn import metrics\n",
    "import seaborn as sns\n",
    "from pynvml import *\n",
    "from numba import cuda\n",
    "import matplotlib.pyplot as plt"
   ]
  },
  {
   "cell_type": "markdown",
   "id": "60c9835c",
   "metadata": {},
   "source": [
    "## Get Current Working Directory"
   ]
  },
  {
   "cell_type": "code",
   "execution_count": 12,
   "id": "01756186",
   "metadata": {},
   "outputs": [
    {
     "name": "stdout",
     "output_type": "stream",
     "text": [
      "CWD: /home/sharjeelahmed/datascience/\n"
     ]
    }
   ],
   "source": [
    "my_dir = os.getcwd() + '/' \n",
    "print(f\"CWD: {my_dir}\")"
   ]
  },
  {
   "cell_type": "markdown",
   "id": "a2833e0b",
   "metadata": {},
   "source": [
    "## GPU Configuration"
   ]
  },
  {
   "cell_type": "markdown",
   "id": "14f3b562",
   "metadata": {},
   "source": [
    "<p> Reset Cuda Memory</p>"
   ]
  },
  {
   "cell_type": "code",
   "execution_count": 13,
   "id": "45ce30da",
   "metadata": {},
   "outputs": [],
   "source": [
    "device = cuda.get_current_device()\n",
    "device.reset()\n",
    "with torch.no_grad():\n",
    "    torch.cuda.empty_cache()"
   ]
  },
  {
   "cell_type": "markdown",
   "id": "55ec71aa",
   "metadata": {},
   "source": [
    "<p>Check GPU Memory</p>"
   ]
  },
  {
   "cell_type": "code",
   "execution_count": 14,
   "id": "e36552e9",
   "metadata": {},
   "outputs": [
    {
     "name": "stdout",
     "output_type": "stream",
     "text": [
      "Total    : 15360 MB\n",
      "Free     : 14490 MB\n",
      "Used     : 869 MB\n"
     ]
    }
   ],
   "source": [
    "nvmlInit()\n",
    "h = nvmlDeviceGetHandleByIndex(0)\n",
    "info = nvmlDeviceGetMemoryInfo(h)\n",
    "print(f'Total    : {info.total//1024**2} MB')\n",
    "print(f'Free     : {info.free//1024**2} MB')\n",
    "print(f'Used     : {info.used//1024**2} MB')"
   ]
  },
  {
   "cell_type": "markdown",
   "id": "c8ab82b5",
   "metadata": {},
   "source": [
    "### Get Cuda Device"
   ]
  },
  {
   "cell_type": "code",
   "execution_count": 15,
   "id": "6196c9c4",
   "metadata": {},
   "outputs": [
    {
     "data": {
      "text/plain": [
       "device(type='cuda', index=0)"
      ]
     },
     "execution_count": 15,
     "metadata": {},
     "output_type": "execute_result"
    }
   ],
   "source": [
    "devices = torch.device(\"cuda:0\" if torch.cuda.is_available() else \"cpu\") \n",
    "devices"
   ]
  },
  {
   "cell_type": "markdown",
   "id": "1051af75",
   "metadata": {},
   "source": [
    "## Load Modela nd Tokenizer"
   ]
  },
  {
   "cell_type": "code",
   "execution_count": 16,
   "id": "e03d76d9",
   "metadata": {},
   "outputs": [],
   "source": [
    "tokenizer = AutoTokenizer.from_pretrained(\"Clinical-AI-Apollo/Medical-NER\")\n",
    "pre_trained_model = AutoModelForTokenClassification.from_pretrained(\"Clinical-AI-Apollo/Medical-NER\")"
   ]
  },
  {
   "cell_type": "code",
   "execution_count": 17,
   "id": "8a3c468b",
   "metadata": {},
   "outputs": [],
   "source": [
    "pipe = pipeline(\"token-classification\", tokenizer = tokenizer , model = pre_trained_model)"
   ]
  },
  {
   "cell_type": "code",
   "execution_count": 18,
   "id": "7283df20",
   "metadata": {},
   "outputs": [],
   "source": [
    "hpi = \"\"\"\n",
    "Patient was referred to Physical Therapy due to change in functional performance of: walking,\n",
    "transfers, bed mobility, and wheelchair mobility\n",
    "When: Approximately 02-19-21\n",
    "Factors contributing to functional change: recent hospitalization, change in previous condition, and change in balance.\n",
    "Additional comments including complication, comorbidity, or safety issue warranting skilled care: Pt admitted to hospital 3\n",
    "weeks ago w/ a kidney infection secondary to a kidney stone. He presents w/ signficant deconditioning and gait disturbance,\n",
    "which limit his ability to safely transfer and ambulate within his SLC.\n",
    "Recomendation should be Panadol, Brufene, Paracetamol and one tble spoon of pink salt.\n",
    "\"\"\""
   ]
  },
  {
   "cell_type": "code",
   "execution_count": 20,
   "id": "950e6cda",
   "metadata": {},
   "outputs": [],
   "source": [
    "pred = pipe(hpi)"
   ]
  },
  {
   "cell_type": "code",
   "execution_count": 21,
   "id": "d19d5f48",
   "metadata": {},
   "outputs": [
    {
     "name": "stdout",
     "output_type": "stream",
     "text": [
      "Index | Word     | Entity                     | Score\n",
      "---------------------------------------------------------------------------\n",
      "    3 | ▁referred | B-CLINICAL_EVENT     | 0.89074\n",
      "    5 | ▁Physical | B-NONBIOLOGICAL_LOCATION | 0.64057\n",
      "    6 | ▁Therapy | I-NONBIOLOGICAL_LOCATION | 0.65925\n",
      "   15 | ▁walking | B-DIAGNOSTIC_PROCEDURE | 0.68079\n",
      "   17 | ▁transfers | B-DIAGNOSTIC_PROCEDURE | 0.67863\n",
      "   19 | ▁bed     | B-BIOLOGICAL_STRUCTURE | 0.25953\n",
      "   20 | ▁mobility | I-DIAGNOSTIC_PROCEDURE | 0.32647\n",
      "   23 | ▁wheelchair | B-BIOLOGICAL_STRUCTURE | 0.21599\n",
      "   24 | ▁mobility | I-DIAGNOSTIC_PROCEDURE | 0.25045\n",
      "   28 | ▁02      | B-DATE               | 0.46283\n",
      "   29 | -        | I-DATE               | 0.78039\n",
      "   30 | 19       | I-DATE               | 0.75045\n",
      "   31 | -        | I-DATE               | 0.71389\n",
      "   32 | 21       | I-DATE               | 0.68596\n",
      "   68 | ▁admitted | B-CLINICAL_EVENT     | 0.85494\n",
      "   70 | ▁hospital | B-NONBIOLOGICAL_LOCATION | 0.77419\n",
      "   71 | ▁3       | B-DATE               | 0.87413\n",
      "   72 | ▁weeks   | I-DATE               | 0.87716\n",
      "   73 | ▁ago     | I-DATE               | 0.79497\n",
      "   77 | ▁kidney  | B-BIOLOGICAL_STRUCTURE | 0.53849\n",
      "   78 | ▁infection | B-DISEASE_DISORDER   | 0.47099\n",
      "   82 | ▁kidney  | B-DISEASE_DISORDER   | 0.50212\n",
      "   83 | ▁stone   | I-DISEASE_DISORDER   | 0.64150\n",
      "   92 | ▁de      | B-SIGN_SYMPTOM       | 0.58677\n",
      "   93 | conditioning | I-SIGN_SYMPTOM       | 0.74734\n",
      "   95 | ▁gait    | B-SIGN_SYMPTOM       | 0.69692\n",
      "   96 | ▁disturbance | I-SIGN_SYMPTOM       | 0.84967\n",
      "  104 | ▁transfer | B-DIAGNOSTIC_PROCEDURE | 0.39555\n",
      "  107 | mb       | I-DIAGNOSTIC_PROCEDURE | 0.42732\n",
      "  108 | ulate    | I-DIAGNOSTIC_PROCEDURE | 0.56654\n",
      "  119 | ▁Pan     | B-MEDICATION         | 0.95873\n",
      "  120 | adol     | I-MEDICATION         | 0.97136\n",
      "  122 | ▁Bru     | B-MEDICATION         | 0.94342\n",
      "  123 | fen      | I-MEDICATION         | 0.97289\n",
      "  124 | e        | I-MEDICATION         | 0.97778\n",
      "  126 | ▁Pa      | B-MEDICATION         | 0.93903\n",
      "  127 | racetam  | I-MEDICATION         | 0.96118\n",
      "  128 | ol       | I-MEDICATION         | 0.96394\n",
      "  130 | ▁one     | B-DOSAGE             | 0.54765\n",
      "  131 | ▁t       | I-DOSAGE             | 0.70778\n",
      "  132 | ble      | I-DOSAGE             | 0.74831\n",
      "  133 | ▁spoon   | I-DOSAGE             | 0.88972\n",
      "  135 | ▁pink    | B-MEDICATION         | 0.88944\n",
      "  136 | ▁salt    | I-MEDICATION         | 0.90056\n"
     ]
    }
   ],
   "source": [
    "print(\"Index | Word     | Entity                     | Score\")\n",
    "print(\"-\" * 75)\n",
    "for item in pred:\n",
    "    print(f\"{item['index']:5} | {item['word']:8} | {item['entity']:20} | {item['score']:.5f}\")\n"
   ]
  },
  {
   "cell_type": "code",
   "execution_count": null,
   "id": "6df71a78",
   "metadata": {},
   "outputs": [],
   "source": []
  }
 ],
 "metadata": {
  "kernelspec": {
   "display_name": "Python 3 (ipykernel)",
   "language": "python",
   "name": "python3"
  },
  "language_info": {
   "codemirror_mode": {
    "name": "ipython",
    "version": 3
   },
   "file_extension": ".py",
   "mimetype": "text/x-python",
   "name": "python",
   "nbconvert_exporter": "python",
   "pygments_lexer": "ipython3",
   "version": "3.8.10"
  }
 },
 "nbformat": 4,
 "nbformat_minor": 5
}
